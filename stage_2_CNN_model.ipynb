{
  "nbformat": 4,
  "nbformat_minor": 0,
  "metadata": {
    "colab": {
      "provenance": []
    },
    "kernelspec": {
      "name": "python3",
      "display_name": "Python 3"
    },
    "language_info": {
      "name": "python"
    }
  },
  "cells": [
    {
      "cell_type": "markdown",
      "source": [
        "## <font color='red'>Stage 2. Making and training Convolutional Neural Network </font>\n"
      ],
      "metadata": {
        "id": "m50AagRAJjwT"
      }
    },
    {
      "cell_type": "code",
      "source": [
        "# Required libraries.\n",
        "import numpy as np\n",
        "from sklearn.model_selection import train_test_split\n",
        "from keras.models import Sequential\n",
        "from keras.layers import Dense, Activation, Flatten, Dropout\n",
        "from keras.layers import Conv2D, MaxPooling2D\n",
        "from keras.callbacks import ModelCheckpoint\n",
        "from matplotlib import pyplot as plt"
      ],
      "metadata": {
        "id": "r8QPXPm1JkA6"
      },
      "execution_count": null,
      "outputs": []
    },
    {
      "cell_type": "code",
      "source": [
        "# Loading the save numpy arrays in the previous code.\n",
        "data = np.load('data.npy')\n",
        "target = np.load('target.npy')"
      ],
      "metadata": {
        "id": "8d6VdCslK28o"
      },
      "execution_count": null,
      "outputs": []
    },
    {
      "cell_type": "code",
      "source": [
        "# Initializing a sequential keras model\n",
        "model = Sequential()\n",
        "\n",
        "# The first CNN layer followed by Relu and MaxPooling layers:\n",
        "# Adding a 2D convolution layer.\n",
        "model.add(Conv2D(200, (3, 3), input_shape=data.shape[1:]))\n",
        "# Adding an activation layer.\n",
        "model.add(Activation('relu'))\n",
        "# Adding a max-pooling layer.\n",
        "model.add(MaxPooling2D(pool_size=(2, 2)))\n",
        "\n",
        "# The second convolution layer followed by Relu and MaxPooling layers:\n",
        "# Adding a 2D convolution layer.\n",
        "model.add(Conv2D(100, (3, 3)))\n",
        "# Adding an activation layer.\n",
        "model.add(Activation('relu'))\n",
        "# Adding a max-pooling layer.\n",
        "model.add(MaxPooling2D(pool_size=(2, 2)))\n",
        "\n",
        "\n",
        "# Flatten layer to stack the output convolutions from second convolution layer:\n",
        "# Adding a flatten layer.\n",
        "model.add(Flatten())\n",
        "# Adding a dropout.\n",
        "model.add(Dropout(0.5))\n",
        "\n",
        "# Dense layer of 64 neurons.\n",
        "model.add(Dense(50, activation='relu'))\n",
        "\n",
        "# The Final layer with six output neurons for six categories (for six faces including my) CHECK amount of faces!!!\n",
        "model.add(Dense(6, activation='softmax'))\n",
        "\n",
        "\n",
        "model.compile(loss='categorical_crossentropy',\n",
        "              optimizer='adam', metrics=['accuracy'])\n",
        "\n",
        "# Printing the model summary.\n",
        "print('--- Created Convolutional Neural Network ---')\n",
        "model.summary()"
      ],
      "metadata": {
        "id": "v7NhlFQOK3CI"
      },
      "execution_count": null,
      "outputs": []
    },
    {
      "cell_type": "code",
      "source": [
        "# Splittin the data into train and test set.\n",
        "train_data, test_data, train_target, test_target = \\\n",
        "    train_test_split(data, target, test_size=0.1)"
      ],
      "metadata": {
        "id": "vSh06Z4oFw4e"
      },
      "execution_count": null,
      "outputs": []
    },
    {
      "cell_type": "code",
      "source": [
        "# Initialize a callback checkpoint to keep saving best model\n",
        "# after each epoch while training.\n",
        "checkpoint = ModelCheckpoint('model-{epoch:03d}.model',\n",
        "                             monitor='val_loss',\n",
        "                             verbose=0,\n",
        "                             save_best_only=True,\n",
        "                             mode='auto')\n",
        "\n",
        "# Training the model.\n",
        "history = model.fit(train_data,train_target,\n",
        "                    epochs=20, callbacks=[checkpoint],\n",
        "                    validation_split=0.2)"
      ],
      "metadata": {
        "id": "ROPE0d2wSPoH"
      },
      "execution_count": null,
      "outputs": []
    },
    {
      "cell_type": "code",
      "source": [
        "# Visualization of losses.\n",
        "plt.plot(history.history['loss'], 'r', label='training loss')\n",
        "plt.plot(history.history['val_loss'], label='validation loss')\n",
        "plt.xlabel('epochs')\n",
        "plt.ylabel('loss')\n",
        "plt.legend()\n",
        "plt.show()"
      ],
      "metadata": {
        "id": "H6xjHtRtSPqx"
      },
      "execution_count": null,
      "outputs": []
    },
    {
      "cell_type": "code",
      "source": [
        "# Visualization of accuracy.\n",
        "plt.plot(history.history['accuracy'], 'r', label='training accuracy')\n",
        "plt.plot(history.history['val_accuracy'], label='validation accuracy')\n",
        "plt.xlabel('epochs')\n",
        "plt.ylabel('loss')\n",
        "plt.legend()\n",
        "plt.show()"
      ],
      "metadata": {
        "id": "Zr4ToMopSUus"
      },
      "execution_count": null,
      "outputs": []
    },
    {
      "cell_type": "code",
      "source": [
        "# Accuracy of the model.\n",
        "print(model.evaluate(test_data, test_target))"
      ],
      "metadata": {
        "id": "6VzbMfZrSU1q"
      },
      "execution_count": null,
      "outputs": []
    }
  ]
}